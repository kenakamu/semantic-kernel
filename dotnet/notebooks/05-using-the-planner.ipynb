{
  "cells": [
    {
      "attachments": {},
      "cell_type": "markdown",
      "metadata": {},
      "source": [
        "# Introduction to the Planner\n",
        "\n",
        "The Planner is one of the fundamental concepts of the Semantic Kernel. It makes use of the collection of skills that have been registered to the kernel and using AI, will formulate a plan to execute a given ask.\n",
        "\n",
        "Read more about it [here](https://aka.ms/sk/concepts/planner)."
      ]
    },
    {
      "cell_type": "code",
      "execution_count": 2,
      "metadata": {
        "dotnet_interactive": {
          "language": "csharp"
        },
        "polyglot_notebook": {
          "kernelName": "csharp"
        }
      },
      "outputs": [
        {
          "data": {
            "text/html": [
              "<div><div></div><div></div><div><strong>Installed Packages</strong><ul><li><span>Microsoft.SemanticKernel, 1.0.0-beta1</span></li></ul></div></div>"
            ]
          },
          "metadata": {},
          "output_type": "display_data"
        }
      ],
      "source": [
        "#r \"nuget: Microsoft.SemanticKernel, 1.0.0-beta\"\n",
        "\n",
        "#!import config/Settings.cs\n",
        "#!import config/Utils.cs\n",
        "\n",
        "using Microsoft.SemanticKernel;\n",
        "using Microsoft.SemanticKernel.Plugins.Core;\n",
        "using Microsoft.SemanticKernel.Orchestration;\n",
        "using Microsoft.SemanticKernel.Connectors.AI.OpenAI;\n",
        "using Microsoft.SemanticKernel.Planning;\n",
        "using Microsoft.SemanticKernel.Planners;\n",
        "\n",
        "var builder = new KernelBuilder();\n",
        "\n",
        "// Configure AI backend used by the kernel\n",
        "var (useAzureOpenAI, model, azureEndpoint, apiKey, orgId) = Settings.LoadFromFile();\n",
        "\n",
        "if (useAzureOpenAI)\n",
        "    builder.WithAzureChatCompletionService(model, azureEndpoint, apiKey);\n",
        "else\n",
        "    builder.WithOpenAIChatCompletionService(model, apiKey, orgId);\n",
        "\n",
        "var kernel = builder.Build();"
      ]
    },
    {
      "attachments": {},
      "cell_type": "markdown",
      "metadata": {},
      "source": [
        "### Setting Up the Planner\n",
        "The planner is located in the Semantic Kernel's CoreSkills and requires Orchestration"
      ]
    },
    {
      "cell_type": "code",
      "execution_count": 3,
      "metadata": {
        "dotnet_interactive": {
          "language": "csharp"
        },
        "polyglot_notebook": {
          "kernelName": "csharp"
        }
      },
      "outputs": [],
      "source": [
        "// Load native skill into the kernel registry, sharing its functions with prompt templates\n",
        "var planner = new SequentialPlanner(kernel);"
      ]
    },
    {
      "attachments": {},
      "cell_type": "markdown",
      "metadata": {},
      "source": [
        "### Providing skills to the planner\n",
        "The planner needs to know what skills are available to it. Here we'll give it access to the `SummarizeSkill` and `WriterSkill` we have defined on disk."
      ]
    },
    {
      "cell_type": "code",
      "execution_count": 5,
      "metadata": {
        "dotnet_interactive": {
          "language": "csharp"
        },
        "polyglot_notebook": {
          "kernelName": "csharp"
        }
      },
      "outputs": [],
      "source": [
        "var skillsDirectory = Path.Combine(System.IO.Directory.GetCurrentDirectory(), \"..\", \"..\", \"samples\", \"skills\");\n",
        "kernel.ImportSemanticFunctionsFromDirectory(skillsDirectory, \"SummarizeSkill\");\n",
        "kernel.ImportSemanticFunctionsFromDirectory(skillsDirectory, \"WriterSkill\");"
      ]
    },
    {
      "attachments": {},
      "cell_type": "markdown",
      "metadata": {},
      "source": [
        "Define your ASK. What do you want the Kernel to do?"
      ]
    },
    {
      "cell_type": "code",
      "execution_count": 6,
      "metadata": {
        "dotnet_interactive": {
          "language": "csharp"
        },
        "polyglot_notebook": {
          "kernelName": "csharp"
        }
      },
      "outputs": [
        {
          "name": "stdout",
          "output_type": "stream",
          "text": [
            "Original plan:\n",
            "\n",
            "{\n",
            "  \"state\": [],\n",
            "  \"steps\": [\n",
            "    {\n",
            "      \"state\": [],\n",
            "      \"steps\": [],\n",
            "      \"parameters\": [\n",
            "        {\n",
            "          \"Key\": \"input\",\n",
            "          \"Value\": \"Valentine\\u0027s day date ideas\"\n",
            "        }\n",
            "      ],\n",
            "      \"outputs\": [\n",
            "        \"DATE_IDEAS\"\n",
            "      ],\n",
            "      \"next_step_index\": 0,\n",
            "      \"name\": \"Brainstorm\",\n",
            "      \"plugin_name\": \"WriterSkill\",\n",
            "      \"description\": \"Given a goal or topic description generate a list of ideas\"\n",
            "    },\n",
            "    {\n",
            "      \"state\": [],\n",
            "      \"steps\": [],\n",
            "      \"parameters\": [\n",
            "        {\n",
            "          \"Key\": \"input\",\n",
            "          \"Value\": \"$DATE_IDEAS[0]\"\n",
            "        }\n",
            "      ],\n",
            "      \"outputs\": [\n",
            "        \"RESULT__POEM_1\"\n",
            "      ],\n",
            "      \"next_step_index\": 0,\n",
            "      \"name\": \"ShortPoem\",\n",
            "      \"plugin_name\": \"WriterSkill\",\n",
            "      \"description\": \"Turn a scenario into a short and entertaining poem.\"\n",
            "    },\n",
            "    {\n",
            "      \"state\": [],\n",
            "      \"steps\": [],\n",
            "      \"parameters\": [\n",
            "        {\n",
            "          \"Key\": \"input\",\n",
            "          \"Value\": \"$DATE_IDEAS[1]\"\n",
            "        }\n",
            "      ],\n",
            "      \"outputs\": [\n",
            "        \"RESULT__POEM_2\"\n",
            "      ],\n",
            "      \"next_step_index\": 0,\n",
            "      \"name\": \"ShortPoem\",\n",
            "      \"plugin_name\": \"WriterSkill\",\n",
            "      \"description\": \"Turn a scenario into a short and entertaining poem.\"\n",
            "    },\n",
            "    {\n",
            "      \"state\": [],\n",
            "      \"steps\": [],\n",
            "      \"parameters\": [\n",
            "        {\n",
            "          \"Key\": \"input\",\n",
            "          \"Value\": \"$DATE_IDEAS[2]\"\n",
            "        }\n",
            "      ],\n",
            "      \"outputs\": [\n",
            "        \"RESULT__POEM_3\"\n",
            "      ],\n",
            "      \"next_step_index\": 0,\n",
            "      \"name\": \"ShortPoem\",\n",
            "      \"plugin_name\": \"WriterSkill\",\n",
            "      \"description\": \"Turn a scenario into a short and entertaining poem.\"\n",
            "    }\n",
            "  ],\n",
            "  \"parameters\": [],\n",
            "  \"outputs\": [\n",
            "    \"RESULT__POEM_1\",\n",
            "    \"RESULT__POEM_2\",\n",
            "    \"RESULT__POEM_3\"\n",
            "  ],\n",
            "  \"next_step_index\": 0,\n",
            "  \"name\": \"pland5f2280df0a9452c9f5efe47394e2aea\",\n",
            "  \"plugin_name\": \"Plan\",\n",
            "  \"description\": \"Tomorrow is Valentine\\u0027s day. I need to come up with a few date ideas. My significant other likes poems so write them in the form of a poem.\"\n",
            "}\n"
          ]
        }
      ],
      "source": [
        "var ask = \"Tomorrow is Valentine's day. I need to come up with a few date ideas. My significant other likes poems so write them in the form of a poem.\";\n",
        "var originalPlan = await planner.CreatePlanAsync(ask);\n",
        "\n",
        "Console.WriteLine(\"Original plan:\\n\");\n",
        "Console.WriteLine(JsonSerializer.Serialize(originalPlan, new JsonSerializerOptions { WriteIndented = true }));"
      ]
    },
    {
      "attachments": {},
      "cell_type": "markdown",
      "metadata": {},
      "source": [
        "As you can see in the above plan, the Planner has taken the user's ask and converted it into a Plan object detailing how the AI would go about solving this task.\n",
        "\n",
        "It makes use of the skills that the Kernel has available to it and determines which functions to call in order to fulfill the user's ask.\n",
        "\n",
        "The output of each step of the plan gets set as `setContextVariable` which makes it available as `input` to the next skill."
      ]
    },
    {
      "attachments": {},
      "cell_type": "markdown",
      "metadata": {},
      "source": [
        "Let's also define an inline skill and have it be available to the Planner.\n",
        "Be sure to give it a function name and skill name."
      ]
    },
    {
      "cell_type": "code",
      "execution_count": 9,
      "metadata": {
        "dotnet_interactive": {
          "language": "csharp"
        },
        "polyglot_notebook": {
          "kernelName": "csharp"
        }
      },
      "outputs": [],
      "source": [
        "string skPrompt = \"\"\"\n",
        "{{$input}}\n",
        "\n",
        "Rewrite the above in the style of Shakespeare.\n",
        "\"\"\";\n",
        "var shakespeareFunction = kernel.CreateSemanticFunction(\n",
        "    skPrompt, \n",
        "    \"Shakespeare\", \n",
        "    \"ShakespeareSkill\",\n",
        "    requestSettings: new OpenAIRequestSettings()\n",
        "    {\n",
        "        MaxTokens = 2000,\n",
        "        Temperature = 0.2,\n",
        "        TopP = 0.5,\n",
        "    });"
      ]
    },
    {
      "attachments": {},
      "cell_type": "markdown",
      "metadata": {},
      "source": [
        "Let's update our ask using this new skill."
      ]
    },
    {
      "cell_type": "code",
      "execution_count": 10,
      "metadata": {
        "dotnet_interactive": {
          "language": "csharp"
        },
        "polyglot_notebook": {
          "kernelName": "csharp"
        }
      },
      "outputs": [
        {
          "name": "stdout",
          "output_type": "stream",
          "text": [
            "Updated plan:\n",
            "\n",
            "{\n",
            "  \"state\": [],\n",
            "  \"steps\": [\n",
            "    {\n",
            "      \"state\": [],\n",
            "      \"steps\": [],\n",
            "      \"parameters\": [\n",
            "        {\n",
            "          \"Key\": \"input\",\n",
            "          \"Value\": \"Valentine\\u0027s Day date ideas\"\n",
            "        }\n",
            "      ],\n",
            "      \"outputs\": [\n",
            "        \"DATE_IDEAS\"\n",
            "      ],\n",
            "      \"next_step_index\": 0,\n",
            "      \"name\": \"Brainstorm\",\n",
            "      \"plugin_name\": \"WriterSkill\",\n",
            "      \"description\": \"Given a goal or topic description generate a list of ideas\"\n",
            "    },\n",
            "    {\n",
            "      \"state\": [],\n",
            "      \"steps\": [],\n",
            "      \"parameters\": [\n",
            "        {\n",
            "          \"Key\": \"input\",\n",
            "          \"Value\": \"$DATE_IDEAS\"\n",
            "        }\n",
            "      ],\n",
            "      \"outputs\": [\n",
            "        \"POEM\"\n",
            "      ],\n",
            "      \"next_step_index\": 0,\n",
            "      \"name\": \"ShortPoem\",\n",
            "      \"plugin_name\": \"WriterSkill\",\n",
            "      \"description\": \"Turn a scenario into a short and entertaining poem.\"\n",
            "    },\n",
            "    {\n",
            "      \"state\": [],\n",
            "      \"steps\": [],\n",
            "      \"parameters\": [\n",
            "        {\n",
            "          \"Key\": \"input\",\n",
            "          \"Value\": \"$POEM\"\n",
            "        }\n",
            "      ],\n",
            "      \"outputs\": [\n",
            "        \"SHAKESPEARE_POEM\"\n",
            "      ],\n",
            "      \"next_step_index\": 0,\n",
            "      \"name\": \"Shakespeare\",\n",
            "      \"plugin_name\": \"ShakespeareSkill\",\n",
            "      \"description\": \"Generic function, unknown purpose\"\n",
            "    },\n",
            "    {\n",
            "      \"state\": [],\n",
            "      \"steps\": [],\n",
            "      \"parameters\": [\n",
            "        {\n",
            "          \"Key\": \"input\",\n",
            "          \"Value\": \"$SHAKESPEARE_POEM\"\n",
            "        }\n",
            "      ],\n",
            "      \"outputs\": [\n",
            "        \"RESULT__DATE_IDEAS_SUMMARY\"\n",
            "      ],\n",
            "      \"next_step_index\": 0,\n",
            "      \"name\": \"TwoSentenceSummary\",\n",
            "      \"plugin_name\": \"WriterSkill\",\n",
            "      \"description\": \"Summarize given text in two sentences or less\"\n",
            "    }\n",
            "  ],\n",
            "  \"parameters\": [],\n",
            "  \"outputs\": [\n",
            "    \"RESULT__DATE_IDEAS_SUMMARY\"\n",
            "  ],\n",
            "  \"next_step_index\": 0,\n",
            "  \"name\": \"plan61112e8a77b34ed3af394cbd8052660d\",\n",
            "  \"plugin_name\": \"Plan\",\n",
            "  \"description\": \"Tomorrow is Valentine\\u0027s day. I need to come up with a few date ideas.\\nShe likes Shakespeare so write using his style. Write them in the form of a poem.\"\n",
            "}\n"
          ]
        }
      ],
      "source": [
        "var ask = @\"Tomorrow is Valentine's day. I need to come up with a few date ideas.\n",
        "She likes Shakespeare so write using his style. Write them in the form of a poem.\";\n",
        "\n",
        "var newPlan = await planner.CreatePlanAsync(ask);\n",
        "\n",
        "Console.WriteLine(\"Updated plan:\\n\");\n",
        "Console.WriteLine(JsonSerializer.Serialize(newPlan, new JsonSerializerOptions { WriteIndented = true }));"
      ]
    },
    {
      "attachments": {},
      "cell_type": "markdown",
      "metadata": {},
      "source": [
        "### Executing the plans\n",
        "\n",
        "Now that we have different plans, let's try to execute them! The Kernel can execute the plan using RunAsync."
      ]
    },
    {
      "cell_type": "code",
      "execution_count": 14,
      "metadata": {
        "dotnet_interactive": {
          "language": "csharp"
        },
        "polyglot_notebook": {
          "kernelName": "csharp"
        }
      },
      "outputs": [
        {
          "name": "stdout",
          "output_type": "stream",
          "text": [
            "Original Plan results:\n",
            "\n",
            "Here's a limerick for the event \"Romantic dinner at a fancy restaurant\":\n",
            "\n",
            "There once was a couple so\n",
            "sweet,\n",
            "Who planned a fancy dinner to eat,\n",
            "But the food was so small,\n",
            "They left feeling quite tall,\n",
            "And ended up stopping for street meat.\n",
            "Romantic dinner at a fancy restaurant,\n",
            "The ambiance is quite\n",
            "elegant,\n",
            "But beware of the food,\n",
            "It might be overpriced and crude,\n",
            "So stick to the bread and butter,\n",
            "my friend.\n",
            "\n",
            "Picnic in the park with homemade food and wine,\n",
            "A perfect way to spend some time,\n",
            "But\n",
            "Romantic dinner at a fancy restaurant,\n",
            "The ambiance was quite elegant,\n",
            "But the food was so small,\n",
            "We\n",
            "left feeling quite appalled,\n",
            "Next time we'll stick to pizza and a tent.\n",
            "\n",
            "Picnic in the park with\n",
            "homemade food and wine,\n",
            "We thought it would be just divine,\n",
            "But the\n",
            "\n"
          ]
        }
      ],
      "source": [
        "var originalPlanResult = await originalPlan.InvokeAsync(kernel.CreateNewContext());\n",
        "\n",
        "Console.WriteLine(\"Original Plan results:\\n\");\n",
        "Console.WriteLine(Utils.WordWrap(originalPlanResult.GetValue<string>(), 100));"
      ]
    },
    {
      "attachments": {},
      "cell_type": "markdown",
      "metadata": {},
      "source": [
        "Now lets execute and print the new plan:"
      ]
    },
    {
      "cell_type": "code",
      "execution_count": 16,
      "metadata": {
        "dotnet_interactive": {
          "language": "csharp"
        },
        "polyglot_notebook": {
          "kernelName": "csharp"
        }
      },
      "outputs": [
        {
          "name": "stdout",
          "output_type": "stream",
          "text": [
            "New Plan results:\n",
            "\n",
            "The first stanza warns about the possibility of ants ruining a romantic picnic in the park. The second stanza suggests a cooking class as a fun and educational date idea.\n"
          ]
        }
      ],
      "source": [
        "var newPlanResult = await kernel.RunAsync(newPlan);\n",
        "Console.WriteLine(\"New Plan results:\\n\");\n",
        "Console.WriteLine(newPlanResult.GetValue<string>());"
      ]
    }
  ],
  "metadata": {
    "kernelspec": {
      "display_name": ".NET (C#)",
      "language": "C#",
      "name": ".net-csharp"
    },
    "language_info": {
      "name": "polyglot-notebook"
    },
    "polyglot_notebook": {
      "kernelInfo": {
        "defaultKernelName": "csharp",
        "items": [
          {
            "aliases": [],
            "name": "csharp"
          }
        ]
      }
    }
  },
  "nbformat": 4,
  "nbformat_minor": 2
}
