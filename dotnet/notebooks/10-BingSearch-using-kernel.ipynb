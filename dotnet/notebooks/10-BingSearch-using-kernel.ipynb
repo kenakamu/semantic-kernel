{
  "cells": [
    {
      "attachments": {},
      "cell_type": "markdown",
      "metadata": {},
      "source": [
        "# BingSearch using Kernel \n",
        "\n",
        "This notebook explains how to integrate Bing Search with the Semantic Kernel  to get the latest information from the internet.\n",
        "\n",
        "To use Bing Search you simply need a Bing Search API key. You can get the API key by creating a [Bing Search resource](https://learn.microsoft.com/en-us/bing/search-apis/bing-web-search/create-bing-search-service-resource) in Azure. \n",
        "\n",
        "To learn more read the following [documentation](https://learn.microsoft.com/en-us/bing/search-apis/bing-web-search/overview)\n"
      ]
    },
    {
      "attachments": {},
      "cell_type": "markdown",
      "metadata": {},
      "source": [
        "Prepare a Semantic Kernel instance first, loading also the AI backend settings defined in the [Setup notebook](0-AI-settings.ipynb):"
      ]
    },
    {
      "cell_type": "code",
      "execution_count": 29,
      "metadata": {
        "dotnet_interactive": {
          "language": "csharp"
        },
        "polyglot_notebook": {
          "kernelName": "csharp"
        }
      },
      "outputs": [
        {
          "ename": "Error",
          "evalue": "Microsoft.SemanticKernel version 1.0.0-beta cannot be added because version 1.0.0-beta1 was added previously.",
          "output_type": "error",
          "traceback": [
            "Microsoft.SemanticKernel version 1.0.0-beta cannot be added because version 1.0.0-beta1 was added previously."
          ]
        }
      ],
      "source": [
        "#r \"nuget: Microsoft.SemanticKernel, 1.0.0-beta\"\n",
        "#r \"nuget: Microsoft.SemanticKernel.Plugins.Web, 1.0.0-beta\"\n",
        "\n",
        "#!import config/Settings.cs\n",
        "#!import config/Utils.cs\n",
        "\n",
        "using Microsoft.SemanticKernel;\n",
        "using Microsoft.SemanticKernel.Plugins.Core;\n",
        "using Microsoft.SemanticKernel.Orchestration;\n",
        "using Microsoft.SemanticKernel.Planning;\n",
        "using Microsoft.SemanticKernel.Planners.Sequential;\n",
        "using Microsoft.SemanticKernel.TemplateEngine;\n",
        "using InteractiveKernel = Microsoft.DotNet.Interactive.Kernel;\n",
        "var builder = new KernelBuilder();\n",
        "\n",
        "// Configure AI backend used by the kernel\n",
        "var (useAzureOpenAI, model, azureEndpoint, apiKey, orgId) = Settings.LoadFromFile();\n",
        "\n",
        "if (useAzureOpenAI)\n",
        "    builder.WithAzureChatCompletionService(model, azureEndpoint, apiKey);\n",
        "else\n",
        "    builder.WithOpenAIChatCompletionService(model, apiKey, orgId);\n",
        "\n",
        "var kernel = builder.Build();"
      ]
    },
    {
      "attachments": {},
      "cell_type": "markdown",
      "metadata": {},
      "source": [
        "Add the following namespaces to use the Bing Search connector."
      ]
    },
    {
      "cell_type": "code",
      "execution_count": 2,
      "metadata": {
        "dotnet_interactive": {
          "language": "csharp"
        },
        "polyglot_notebook": {
          "kernelName": "csharp"
        }
      },
      "outputs": [],
      "source": [
        "using Microsoft.SemanticKernel.Plugins.Web;\n",
        "using Microsoft.SemanticKernel.Plugins.Web.Bing;"
      ]
    },
    {
      "attachments": {},
      "cell_type": "markdown",
      "metadata": {},
      "source": [
        "Enter your Bing Search Key in BING_KEY using `InteractiveKernel` method as introduced in [`.NET Interactive`](https://github.com/dotnet/interactive/blob/main/docs/kernels-overview.md)"
      ]
    },
    {
      "cell_type": "code",
      "execution_count": 43,
      "metadata": {
        "dotnet_interactive": {
          "language": "csharp"
        },
        "polyglot_notebook": {
          "kernelName": "csharp"
        }
      },
      "outputs": [],
      "source": [
        "using InteractiveKernel = Microsoft.DotNet.Interactive.Kernel;\n",
        "\n",
        "var BING_KEY = await InteractiveKernel.GetPasswordAsync(\"Please enter your Bing Search Key\");"
      ]
    },
    {
      "attachments": {},
      "cell_type": "markdown",
      "metadata": {},
      "source": [
        "Below are some examples on how [`WebSearchEngineSkill`](../src/Skills/Skills.Web/WebSearchEngineSkill.cs) can be used in SK. "
      ]
    },
    {
      "cell_type": "code",
      "execution_count": 31,
      "metadata": {
        "dotnet_interactive": {
          "language": "csharp"
        },
        "polyglot_notebook": {
          "kernelName": "csharp"
        }
      },
      "outputs": [],
      "source": [
        "private static async Task Example1Async(IKernel kernel)\n",
        "{\n",
        "        Console.WriteLine(\"Example 1\");\n",
        "\n",
        "        // Run \n",
        "        var question = \"What is quantum tunnelling\";\n",
        "        var bingResult = await kernel.Functions.GetFunction(\"bing\", \"search\").InvokeAsync(kernel.CreateNewContext(new ContextVariables(question)));\n",
        "\n",
        "        Console.WriteLine(question);\n",
        "        Console.WriteLine(\"----\");\n",
        "        Console.WriteLine(bingResult.GetValue<string>());\n",
        "        Console.WriteLine();\n",
        "\n",
        "        /* OUTPUT:\n",
        "\n",
        "            What is quantum tunnelling\n",
        "            ----\n",
        "            In physics, quantum tunnelling, barrier penetration, or simply tunnelling is a quantum mechanical\n",
        "            phenomenon in which an object such as an electron or atom passes through a potential energy \n",
        "            barrier that, according to classical mechanics, the object does not have sufficient energy to\n",
        "            enter or surmount.\n",
        "            \n",
        "       */\n",
        "}"
      ]
    },
    {
      "cell_type": "code",
      "execution_count": 32,
      "metadata": {
        "dotnet_interactive": {
          "language": "csharp"
        },
        "polyglot_notebook": {
          "kernelName": "csharp"
        }
      },
      "outputs": [],
      "source": [
        "private static async Task Example2Async(IKernel kernel)\n",
        "{\n",
        "    Console.WriteLine(\"Example 2\");\n",
        "\n",
        "    //The following function only works in interactive notebooks\n",
        "    string question = await InteractiveKernel.GetInputAsync(\"Please ask your question\"); \n",
        "\n",
        "    var bingResult = await kernel.Functions.GetFunction(\"bing\", \"search\").InvokeAsync(kernel.CreateNewContext(new ContextVariables(question)));\n",
        "\n",
        "    Console.WriteLine(bingResult.GetValue<string>());\n",
        "}"
      ]
    },
    {
      "attachments": {},
      "cell_type": "markdown",
      "metadata": {},
      "source": [
        "Just uncomment the examples to run them in the following code:"
      ]
    },
    {
      "cell_type": "code",
      "execution_count": 46,
      "metadata": {
        "dotnet_interactive": {
          "language": "csharp"
        },
        "polyglot_notebook": {
          "kernelName": "csharp"
        }
      },
      "outputs": [
        {
          "name": "stdout",
          "output_type": "stream",
          "text": [
            "Example 1\n",
            "What is quantum tunnelling\n",
            "----\n",
            "[\"In physics, quantum tunnelling, barrier penetration, or simply tunnelling is a quantum mechanical phenomenon in which an object such as an electron or atom passes through a potential energy barrier that, according to classical mechanics, the object does not have sufficient energy to enter or surmount.\",\"Quantum tunnelling is a phenomenon where a subatomic particle or atom can be present on the opposite side of the physical obstacle that is normally impossible for the particle to infiltrate. This is as if a person is walking and reaching a 20-metre tall wall extending a long way on both sides.\",\"Quantum tunneling is a phenomenon where an electron is able to phase through a barrier and move to the other side. It is a quantum phenomenon that occurs when particles move through a barrier that, according to the theories of classical physics, should be impossible to pass through.\",\"One of the strangest things scientists discovered when picking apart quantum mathematics is tunnelling. What is quantum tunnelling? Imagine releasing a quantum mechanical particle, like ...\",\"Quantum tunnelling (or tunneling) is the quantum-mechanical effect of transitioning through a classically-forbidden energy state. Oct. 5, 2023 \\u2014 Imagine a life form that doesn\\u0027t resemble any of ...\",\"Quantum tunneling refers to the nonzero probability that a particle in quantum mechanics can be measured to be in a state that is forbidden in classical mechanics. Quantum tunneling occurs because there exists a nontrivial solution to the Schr\\u00F6dinger equation in a classically forbidden region, which corresponds to the exponential decay of the ...\",\"Tweet it - http://bit.ly/okHiQ7Facebook it - http://on.fb.me/qA1dYkminutephysics is now on Google\\u002B - http://bit.ly/qzEwc6 And facebook - http://facebook.com/...\"]\n",
            "\n"
          ]
        }
      ],
      "source": [
        "// Load Bing skill\n",
        "var bingConnector = new BingConnector(BING_KEY.GetClearTextPassword());\n",
        "\n",
        "kernel.ImportFunctions(new WebSearchEnginePlugin(bingConnector), \"bing\");\n",
        "\n",
        "await Example1Async(kernel);\n",
        "//await Example2Async(kernel);"
      ]
    },
    {
      "cell_type": "code",
      "execution_count": 45,
      "metadata": {
        "dotnet_interactive": {
          "language": "csharp"
        },
        "polyglot_notebook": {
          "kernelName": "csharp"
        }
      },
      "outputs": [
        {
          "data": {
            "text/html": [
              "<details open=\"open\" class=\"dni-treeview\"><summary><span class=\"dni-code-hint\"><code>************</code></span></summary><div><table><thead><tr></tr></thead><tbody></tbody></table></div></details><style>\r\n",
              ".dni-code-hint {\r\n",
              "    font-style: italic;\r\n",
              "    overflow: hidden;\r\n",
              "    white-space: nowrap;\r\n",
              "}\r\n",
              ".dni-treeview {\r\n",
              "    white-space: nowrap;\r\n",
              "}\r\n",
              ".dni-treeview td {\r\n",
              "    vertical-align: top;\r\n",
              "    text-align: start;\r\n",
              "}\r\n",
              "details.dni-treeview {\r\n",
              "    padding-left: 1em;\r\n",
              "}\r\n",
              "table td {\r\n",
              "    text-align: start;\r\n",
              "}\r\n",
              "table tr { \r\n",
              "    vertical-align: top; \r\n",
              "    margin: 0em 0px;\r\n",
              "}\r\n",
              "table tr td pre \r\n",
              "{ \r\n",
              "    vertical-align: top !important; \r\n",
              "    margin: 0em 0px !important;\r\n",
              "} \r\n",
              "table th {\r\n",
              "    text-align: start;\r\n",
              "}\r\n",
              "</style>"
            ]
          },
          "metadata": {},
          "output_type": "display_data"
        }
      ],
      "source": [
        "BING_KEY"
      ]
    },
    {
      "cell_type": "code",
      "execution_count": null,
      "metadata": {
        "dotnet_interactive": {
          "language": "csharp"
        },
        "polyglot_notebook": {
          "kernelName": "csharp"
        }
      },
      "outputs": [],
      "source": []
    }
  ],
  "metadata": {
    "kernelspec": {
      "display_name": ".NET (C#)",
      "language": "C#",
      "name": ".net-csharp"
    },
    "language_info": {
      "name": "polyglot-notebook"
    },
    "orig_nbformat": 4,
    "polyglot_notebook": {
      "kernelInfo": {
        "defaultKernelName": "csharp",
        "items": [
          {
            "aliases": [],
            "name": "csharp"
          }
        ]
      }
    }
  },
  "nbformat": 4,
  "nbformat_minor": 2
}
